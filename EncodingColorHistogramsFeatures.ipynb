{
 "cells": [
  {
   "cell_type": "code",
   "execution_count": 1,
   "id": "d0ad4242-2469-49dd-82f1-dcfcb3fb4a95",
   "metadata": {},
   "outputs": [],
   "source": [
    "# Load libraries\n",
    "import cv2\n",
    "import numpy as np\n",
    "from matplotlib import pyplot as plt"
   ]
  },
  {
   "cell_type": "code",
   "execution_count": 2,
   "id": "2bd35bc1-a2a7-4736-943b-75001994a6c6",
   "metadata": {},
   "outputs": [],
   "source": [
    "# Load image\n",
    "image_bgr = cv2.imread(\"PLANEE.JPEG\", cv2.IMREAD_COLOR)"
   ]
  },
  {
   "cell_type": "code",
   "execution_count": 3,
   "id": "4f4a215d-1eca-4898-93c4-6e373e4b906e",
   "metadata": {},
   "outputs": [],
   "source": [
    "# Convert to RGB\n",
    "image_rgb = cv2.cvtColor(image_bgr, cv2.COLOR_BGR2RGB)"
   ]
  },
  {
   "cell_type": "code",
   "execution_count": 4,
   "id": "a3b216ed-e353-4663-8b59-13b08f507505",
   "metadata": {},
   "outputs": [],
   "source": [
    "# Create a list for feature values\n",
    "features = []"
   ]
  },
  {
   "cell_type": "code",
   "execution_count": 5,
   "id": "5cc54269-117e-4cac-b4d4-7bb0384507f5",
   "metadata": {},
   "outputs": [],
   "source": [
    "# Calculate the histogram for each color channel\n",
    "colors = (\"r\",\"g\",\"b\")"
   ]
  },
  {
   "cell_type": "code",
   "execution_count": 6,
   "id": "2d014ee0-02ba-410f-aa5a-6e471e9edca1",
   "metadata": {},
   "outputs": [],
   "source": [
    "# For each channel: calculate histogram and add to feature value list\n",
    "for i, channel in enumerate(colors):\n",
    "    histogram = cv2.calcHist([image_rgb], # Image\n",
    "[i], # Index of channel\n",
    "None, # No mask\n",
    "[256], # Histogram size\n",
    "[0,256]) # Range\n",
    "features.extend(histogram)"
   ]
  },
  {
   "cell_type": "code",
   "execution_count": 7,
   "id": "014b43dd-f6f9-4021-afc4-6efd2c74aa3c",
   "metadata": {},
   "outputs": [],
   "source": [
    "# Create a vector for an observation's feature values\n",
    "observation = np.array(features).flatten()"
   ]
  },
  {
   "cell_type": "code",
   "execution_count": 8,
   "id": "01bf59d9-4dbe-413a-8407-ff4537c20e5c",
   "metadata": {},
   "outputs": [
    {
     "data": {
      "text/plain": [
       "array([5., 2., 1., 1., 3.], dtype=float32)"
      ]
     },
     "execution_count": 8,
     "metadata": {},
     "output_type": "execute_result"
    }
   ],
   "source": [
    "# Show the observation's value for the first five features\n",
    "observation[0:5]"
   ]
  },
  {
   "cell_type": "code",
   "execution_count": 9,
   "id": "695fa122-1421-4207-84ae-e9110a5f2c9e",
   "metadata": {},
   "outputs": [
    {
     "data": {
      "text/plain": [
       "array([255, 255, 255], dtype=uint8)"
      ]
     },
     "execution_count": 9,
     "metadata": {},
     "output_type": "execute_result"
    }
   ],
   "source": [
    "# Show RGB channel values\n",
    "image_rgb[0,0]"
   ]
  },
  {
   "cell_type": "code",
   "execution_count": 10,
   "id": "555c7ba1-ce67-4bb1-b0a2-c681a83f8557",
   "metadata": {},
   "outputs": [],
   "source": [
    "# Import pandas\n",
    "import pandas as pd"
   ]
  },
  {
   "cell_type": "code",
   "execution_count": 11,
   "id": "885c7b0d-4693-4d3f-82e9-91a0210a64e3",
   "metadata": {},
   "outputs": [],
   "source": [
    "# Create some data\n",
    "data = pd.Series([1, 1, 2, 2, 3, 3, 3, 4, 5])"
   ]
  },
  {
   "cell_type": "code",
   "execution_count": 12,
   "id": "e93fe18d-f9d1-417a-9504-53a5ff6a5fce",
   "metadata": {},
   "outputs": [
    {
     "data": {
      "image/png": "[encoded data removed]",
      "text/plain": [
       "<Figure size 640x480 with 1 Axes>"
      ]
     },
     "metadata": {},
     "output_type": "display_data"
    }
   ],
   "source": [
    "# Show the histogram\n",
    "data.hist(grid=False)\n",
    "plt.show()"
   ]
  },
  {
   "cell_type": "code",
   "execution_count": 13,
   "id": "05d1bdfa-ad01-4046-8a91-7305f1fb1d93",
   "metadata": {},
   "outputs": [],
   "source": [
    "# Calculate the histogram for each color channel\n",
    "colors = (\"r\",\"g\",\"b\")"
   ]
  },
  {
   "cell_type": "code",
   "execution_count": 14,
   "id": "71ac418b-621f-4709-852c-e6f41b1fac0d",
   "metadata": {},
   "outputs": [
    {
     "data": {
      "image/png": "[encoded data removed]",
      "text/plain": [
       "<Figure size 640x480 with 1 Axes>"
      ]
     },
     "metadata": {},
     "output_type": "display_data"
    }
   ],
   "source": [
    "# For each channel: calculate histogram, make plot\n",
    "for i, channel in enumerate(colors):\n",
    "    histogram = cv2.calcHist([image_rgb], # Image\n",
    "[i], # Index of channel\n",
    "None, # No mask\n",
    "[256], # Histogram size\n",
    "[0,256]) # Range\n",
    "plt.plot(histogram, color = channel)\n",
    "plt.xlim([0,256])\n",
    "# Show plot\n",
    "plt.show()"
   ]
  },
  {
   "cell_type": "code",
   "execution_count": null,
   "id": "30671cd3-e4d4-46c1-b349-4f1296388471",
   "metadata": {},
   "outputs": [],
   "source": []
  }
 ],
 "metadata": {
  "kernelspec": {
   "display_name": "Python 3 (ipykernel)",
   "language": "python",
   "name": "python3"
  },
  "language_info": {
   "codemirror_mode": {
    "name": "ipython",
    "version": 3
   },
   "file_extension": ".py",
   "mimetype": "text/x-python",
   "name": "python",
   "nbconvert_exporter": "python",
   "pygments_lexer": "ipython3",
   "version": "3.12.3"
  }
 },
 "nbformat": 4,
 "nbformat_minor": 5
}
